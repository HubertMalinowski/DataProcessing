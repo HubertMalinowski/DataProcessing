{
  "cells": [
    {
      "cell_type": "markdown",
      "metadata": {
        "id": "view-in-github",
        "colab_type": "text"
      },
      "source": [
        "<a href=\"https://colab.research.google.com/github/HubertMalinowski/DataProcessing/blob/main/Data_Analysis_with_SQL_and_Pandas.ipynb\" target=\"_parent\"><img src=\"https://colab.research.google.com/assets/colab-badge.svg\" alt=\"Open In Colab\"/></a>"
      ]
    },
    {
      "cell_type": "markdown",
      "id": "50a8e1e6",
      "metadata": {
        "id": "50a8e1e6"
      },
      "source": [
        "# Data Analysis with SQL and Pandas\n",
        "\n",
        "In this notebook, we will analyze a simplified dump of anonymized data from the website [Travel Stack Exchange](https://travel.stackexchange.com). This data is part of a larger dataset available at [Archive.org](https://archive.org/details/stackexchange), which includes several data frames:\n",
        "\n",
        "- `Posts.csv.gz`\n",
        "- `Users.csv.gz`\n",
        "- `Comments.csv.gz`\n",
        "- `PostLinks.csv.gz`\n",
        "\n",
        "Before starting the tasks, please familiarize yourself with the data and its structure. More details about what information each column represents can be found in the [README](https://archive.org/27/items/stackexchange/readme.txt) file.\n",
        "\n",
        "**Important Note:** You need to download the above files and place them in the directory where this notebook is located to ensure the code runs correctly.\n",
        "\n",
        "## Setup\n",
        "\n",
        "First, let's import the necessary libraries and load the data. We are using Pandas to handle our data in Python, and SQLite3 for SQL operations, because SQLite3 allows us to create a memory-resident database which we can use for our SQL operations without needing a server.\n"
      ]
    },
    {
      "cell_type": "code",
      "source": [
        "import pandas as pd\n",
        "import numpy as np\n",
        "import sqlite3\n",
        "\n",
        "# Load the data\n",
        "Posts = pd.read_csv('Posts.csv.gz', compression='gzip')\n",
        "Users = pd.read_csv('Users.csv.gz', compression='gzip')\n",
        "Comments = pd.read_csv('Comments.csv.gz', compression='gzip')\n",
        "PostLinks = pd.read_csv('PostLinks.csv.gz', compression='gzip')"
      ],
      "metadata": {
        "id": "D4GYXziZl1ha"
      },
      "id": "D4GYXziZl1ha",
      "execution_count": 111,
      "outputs": []
    },
    {
      "cell_type": "markdown",
      "source": [
        "## Import Custom Solutions\n",
        "\n",
        "We have defined a module Malinowski_Hubert_PD2.py that contains all our analysis functions. Let's import those."
      ],
      "metadata": {
        "id": "i3DOAXCJNxTn"
      },
      "id": "i3DOAXCJNxTn"
    },
    {
      "cell_type": "code",
      "source": [
        "from solutions import solution_1, solution_2, solution_3, solution_4, solution_5"
      ],
      "metadata": {
        "id": "I1f6g-SHNuqQ"
      },
      "id": "I1f6g-SHNuqQ",
      "execution_count": 112,
      "outputs": []
    },
    {
      "cell_type": "markdown",
      "source": [
        "## Task 1: Analyze Locations\n",
        "\n",
        "The first task focuses on finding the top 10 locations by post count where the location field is not empty."
      ],
      "metadata": {
        "id": "VPQW6NEUm5u5"
      },
      "id": "VPQW6NEUm5u5"
    },
    {
      "cell_type": "code",
      "source": [
        "sql_result, pandas_result = solution_1(Posts, Users)\n",
        "print(\"SQL Result:\")\n",
        "print(sql_result)\n",
        "print(\"\\nPandas Result:\")\n",
        "print(pandas_result)\n",
        "\n",
        "# Check if results are consistent and print the appropriate message\n",
        "if sql_result.equals(pandas_result):\n",
        "    print(\"Results are consistent!\")\n",
        "else:\n",
        "    print(\"Results are inconsistent!\")"
      ],
      "metadata": {
        "colab": {
          "base_uri": "https://localhost:8080/"
        },
        "id": "fncQmLslnuv3",
        "outputId": "0500a966-3a6f-4d46-c009-d928e7d256de"
      },
      "id": "fncQmLslnuv3",
      "execution_count": 113,
      "outputs": [
        {
          "output_type": "stream",
          "name": "stdout",
          "text": [
            "SQL Result:\n",
            "                        Location  Count\n",
            "0      Christchurch, New Zealand   2795\n",
            "1                   New York, NY   1872\n",
            "2         London, United Kingdom   1711\n",
            "3                             UK   1707\n",
            "4  Sunshine Coast QLD, Australia   1558\n",
            "5                      Australia   1199\n",
            "6                       Seat 21A   1056\n",
            "7              Vancouver, Canada   1051\n",
            "8                    Netherlands   1013\n",
            "9                     London, UK    947\n",
            "\n",
            "Pandas Result:\n",
            "                        Location  Count\n",
            "0      Christchurch, New Zealand   2795\n",
            "1                   New York, NY   1872\n",
            "2         London, United Kingdom   1711\n",
            "3                             UK   1707\n",
            "4  Sunshine Coast QLD, Australia   1558\n",
            "5                      Australia   1199\n",
            "6                       Seat 21A   1056\n",
            "7              Vancouver, Canada   1051\n",
            "8                    Netherlands   1013\n",
            "9                     London, UK    947\n",
            "Results are consistent!\n"
          ]
        }
      ]
    },
    {
      "cell_type": "markdown",
      "source": [
        "## Task 2: Analyze Post Links\n",
        "\n",
        "The second task aims to analyze the titles of posts and the number of related posts (links), sorting results by the number of links."
      ],
      "metadata": {
        "id": "8xGdipJWqfvA"
      },
      "id": "8xGdipJWqfvA"
    },
    {
      "cell_type": "code",
      "source": [
        "sql_result, pandas_result = solution_2(Posts, PostLinks)\n",
        "print(\"SQL Result:\")\n",
        "print(sql_result)\n",
        "print(\"\\nPandas Result:\")\n",
        "print(pandas_result)\n",
        "\n",
        "# Check if results are consistent and print the appropriate message\n",
        "if sql_result.equals(pandas_result):\n",
        "    print(\"Results are consistent!\")\n",
        "else:\n",
        "    print(\"Results are inconsistent!\")"
      ],
      "metadata": {
        "colab": {
          "base_uri": "https://localhost:8080/"
        },
        "id": "4Kz88_Cnqhpj",
        "outputId": "ab237386-4c76-4d0e-a7d4-1460a713cda5"
      },
      "id": "4Kz88_Cnqhpj",
      "execution_count": 114,
      "outputs": [
        {
          "output_type": "stream",
          "name": "stdout",
          "text": [
            "SQL Result:\n",
            "                                                  Title  NumLinks\n",
            "0     Is there a way to find out if I need a transit...      1157\n",
            "1     Do I need a visa to transit (or layover) in th...      1012\n",
            "2     Should I submit bank statements when applying ...       669\n",
            "3     UK visa refusal on V 4.2 a + c (and sometimes ...       523\n",
            "4     Should my first trip be to the country which i...       461\n",
            "...                                                 ...       ...\n",
            "8094                uk visa refusal for mrcp paces exam         1\n",
            "8095  what is the legal age to buy tobacco products ...         1\n",
            "8096  what kind of hat would be most effective for r...         1\n",
            "8097  which visa should i opt for (attending a confe...         1\n",
            "8098  “Proof of legal status” for applying for a Chi...         1\n",
            "\n",
            "[8099 rows x 2 columns]\n",
            "\n",
            "Pandas Result:\n",
            "                                                  Title  NumLinks\n",
            "0     Is there a way to find out if I need a transit...      1157\n",
            "1     Do I need a visa to transit (or layover) in th...      1012\n",
            "2     Should I submit bank statements when applying ...       669\n",
            "3     UK visa refusal on V 4.2 a + c (and sometimes ...       523\n",
            "4     Should my first trip be to the country which i...       461\n",
            "...                                                 ...       ...\n",
            "8094                uk visa refusal for mrcp paces exam         1\n",
            "8095  what is the legal age to buy tobacco products ...         1\n",
            "8096  what kind of hat would be most effective for r...         1\n",
            "8097  which visa should i opt for (attending a confe...         1\n",
            "8098  “Proof of legal status” for applying for a Chi...         1\n",
            "\n",
            "[8099 rows x 2 columns]\n",
            "Results are consistent!\n"
          ]
        }
      ]
    },
    {
      "cell_type": "markdown",
      "source": [
        "## Task 3: Analyze Comments\n",
        "\n",
        "This task is to find the top 10 posts by total comments score, showing various details such as title, comment count, view count, and user information."
      ],
      "metadata": {
        "id": "hejFOgYts4L5"
      },
      "id": "hejFOgYts4L5"
    },
    {
      "cell_type": "code",
      "source": [
        "sql_result, pandas_result = solution_3(Comments, Posts, Users)\n",
        "print(\"SQL Result:\")\n",
        "print(sql_result)\n",
        "print(\"\\nPandas Result:\")\n",
        "print(pandas_result)\n",
        "\n",
        "# Check if results are consistent and print the appropriate message\n",
        "if sql_result.equals(pandas_result):\n",
        "    print(\"Results are consistent!\")\n",
        "else:\n",
        "    print(\"Results are inconsistent!\")"
      ],
      "metadata": {
        "colab": {
          "base_uri": "https://localhost:8080/"
        },
        "id": "IfP7WJ47s6h2",
        "outputId": "49aa5afa-744f-4892-f256-26cc56a92eb6"
      },
      "id": "IfP7WJ47s6h2",
      "execution_count": 115,
      "outputs": [
        {
          "output_type": "stream",
          "name": "stdout",
          "text": [
            "SQL Result:\n",
            "                                               Title  CommentCount  ViewCount  \\\n",
            "0  Boss is asking for passport, but it has a stam...            24    61309.0   \n",
            "1  How to intentionally get denied entry to the U...            37    72856.0   \n",
            "2  Can I wear a bulletproof vest while traveling ...            26    23467.0   \n",
            "3  OK we're all adults here, so really, how on ea...            29   113001.0   \n",
            "4  Being separated from one's young children on a...            36    14308.0   \n",
            "5  Immigration officer that stopped me at the air...            24    22495.0   \n",
            "6  How to avoid toddlers on a long-distance plane...            18    29344.0   \n",
            "7                         Can I fly with a gold bar?            25    55450.0   \n",
            "8  How to book a flight if my passport doesn't st...            23    18029.0   \n",
            "9  Why don't airlines have backup planes just in ...            26    18809.0   \n",
            "\n",
            "   CommentsTotalScore    DisplayName  Reputation  \\\n",
            "0                 630          Megha        1679   \n",
            "1                 618      user11743        1997   \n",
            "2                 403         Ulkoma        9190   \n",
            "3                 388    hippietrail       75994   \n",
            "4                 358    Emma-louise         611   \n",
            "5                 345         DiegoJ        1273   \n",
            "6                 343  Silver Dragon         943   \n",
            "7                 333         Ulkoma        9190   \n",
            "8                 330          kukis         894   \n",
            "9                 328      clickbait         542   \n",
            "\n",
            "                        Location  \n",
            "0                           None  \n",
            "1                           None  \n",
            "2         London, United Kingdom  \n",
            "3  Sunshine Coast QLD, Australia  \n",
            "4                           None  \n",
            "5                   Buenos Aires  \n",
            "6   San Francisco, United States  \n",
            "7         London, United Kingdom  \n",
            "8             Sztokholm, Szwecja  \n",
            "9                           None  \n",
            "\n",
            "Pandas Result:\n",
            "                                               Title  CommentCount  ViewCount  \\\n",
            "0  Boss is asking for passport, but it has a stam...            24    61309.0   \n",
            "1  How to intentionally get denied entry to the U...            37    72856.0   \n",
            "2  Can I wear a bulletproof vest while traveling ...            26    23467.0   \n",
            "3  OK we're all adults here, so really, how on ea...            29   113001.0   \n",
            "4  Being separated from one's young children on a...            36    14308.0   \n",
            "5  Immigration officer that stopped me at the air...            24    22495.0   \n",
            "6  How to avoid toddlers on a long-distance plane...            18    29344.0   \n",
            "7                         Can I fly with a gold bar?            25    55450.0   \n",
            "8  How to book a flight if my passport doesn't st...            23    18029.0   \n",
            "9  Why don't airlines have backup planes just in ...            26    18809.0   \n",
            "\n",
            "   CommentsTotalScore    DisplayName  Reputation  \\\n",
            "0                 630          Megha        1679   \n",
            "1                 618      user11743        1997   \n",
            "2                 403         Ulkoma        9190   \n",
            "3                 388    hippietrail       75994   \n",
            "4                 358    Emma-louise         611   \n",
            "5                 345         DiegoJ        1273   \n",
            "6                 343  Silver Dragon         943   \n",
            "7                 333         Ulkoma        9190   \n",
            "8                 330          kukis         894   \n",
            "9                 328      clickbait         542   \n",
            "\n",
            "                        Location  \n",
            "0                            NaN  \n",
            "1                            NaN  \n",
            "2         London, United Kingdom  \n",
            "3  Sunshine Coast QLD, Australia  \n",
            "4                            NaN  \n",
            "5                   Buenos Aires  \n",
            "6   San Francisco, United States  \n",
            "7         London, United Kingdom  \n",
            "8             Sztokholm, Szwecja  \n",
            "9                            NaN  \n",
            "Results are consistent!\n"
          ]
        }
      ]
    },
    {
      "cell_type": "markdown",
      "source": [
        "## Task 4: Analyze User Activity\n",
        "\n",
        "Task four identifies users with more answers than questions, ordered by the number of answers."
      ],
      "metadata": {
        "id": "lZSQbbhjs63g"
      },
      "id": "lZSQbbhjs63g"
    },
    {
      "cell_type": "code",
      "source": [
        "sql_result, pandas_result = solution_4(Posts, Users)\n",
        "print(\"SQL Result:\")\n",
        "print(sql_result)\n",
        "print(\"\\nPandas Result:\")\n",
        "print(pandas_result)\n",
        "\n",
        "# Check if results are consistent and print the appropriate message\n",
        "if sql_result.equals(pandas_result):\n",
        "    print(\"Results are consistent!\")\n",
        "else:\n",
        "    print(\"Results are inconsistent!\")"
      ],
      "metadata": {
        "colab": {
          "base_uri": "https://localhost:8080/"
        },
        "id": "oEjnP-MBs75K",
        "outputId": "8ad40f5f-b655-449e-9ff8-6e1872884032"
      },
      "id": "oEjnP-MBs75K",
      "execution_count": 116,
      "outputs": [
        {
          "output_type": "stream",
          "name": "stdout",
          "text": [
            "SQL Result:\n",
            "   DisplayName  QuestionsNumber  AnswersNumber                   Location  \\\n",
            "0    Mark Mayo              344           1968  Christchurch, New Zealand   \n",
            "1        phoog               12           1690               New York, NY   \n",
            "2      Relaxed                8           1506                       None   \n",
            "3  lambshaanxy              117           1466                       None   \n",
            "4     Crazydre              172           1163                       None   \n",
            "\n",
            "   Reputation  UpVotes  DownVotes  \n",
            "0      157193    16082       1661  \n",
            "1      120317     8767        567  \n",
            "2       99185    11268        606  \n",
            "3       98555    15021        275  \n",
            "4       73180     2263        132  \n",
            "\n",
            "Pandas Result:\n",
            "   DisplayName  QuestionsNumber  AnswersNumber                   Location  \\\n",
            "0    Mark Mayo              344           1968  Christchurch, New Zealand   \n",
            "1        phoog               12           1690               New York, NY   \n",
            "2      Relaxed                8           1506                        NaN   \n",
            "3  lambshaanxy              117           1466                        NaN   \n",
            "4     Crazydre              172           1163                        NaN   \n",
            "\n",
            "   Reputation  UpVotes  DownVotes  \n",
            "0      157193    16082       1661  \n",
            "1      120317     8767        567  \n",
            "2       99185    11268        606  \n",
            "3       98555    15021        275  \n",
            "4       73180     2263        132  \n",
            "Results are consistent!\n"
          ]
        }
      ]
    },
    {
      "cell_type": "markdown",
      "source": [
        "## Task 5: Average Answers Count\n",
        "\n",
        "The final task is to find the top 10 users by average answers count per post"
      ],
      "metadata": {
        "id": "9psqKlQfs7_V"
      },
      "id": "9psqKlQfs7_V"
    },
    {
      "cell_type": "code",
      "source": [
        "sql_result, pandas_result = solution_5(Posts, Users)\n",
        "print(\"SQL Result:\")\n",
        "print(sql_result)\n",
        "print(\"\\nPandas Result:\")\n",
        "print(pandas_result)\n",
        "\n",
        "# Check if results are consistent and print the appropriate message\n",
        "if sql_result.equals(pandas_result):\n",
        "    print(\"Results are consistent!\")\n",
        "else:\n",
        "    print(\"Results are inconsistent!\")"
      ],
      "metadata": {
        "colab": {
          "base_uri": "https://localhost:8080/"
        },
        "id": "_7p6WlHis854",
        "outputId": "cc66ef8b-e541-4618-d71b-7239f1faea4d"
      },
      "id": "_7p6WlHis854",
      "execution_count": 117,
      "outputs": [
        {
          "output_type": "stream",
          "name": "stdout",
          "text": [
            "SQL Result:\n",
            "   AccountId      DisplayName           Location  AverageAnswersCount\n",
            "0      280.0            csmba  san francisco, ca                 11.0\n",
            "1    40811.0           vocaro       san jose, ca                 11.0\n",
            "2      204.0             josh          australia                 10.0\n",
            "3    44093.0    emma arbogast          salem, or                 10.0\n",
            "4    11758.0         rvarcher  oklahoma city, ok                  9.0\n",
            "5    19588.0       jd isaacks        atlanta, ga                  8.0\n",
            "6    20473.0      jeremy boyd        houston, tx                  8.0\n",
            "7    42364.0         petrogad               None                  8.0\n",
            "8    54571.0        christian               None                  8.0\n",
            "9    79346.0  thomas matthews         california                  8.0\n",
            "\n",
            "Pandas Result:\n",
            "   AccountId      DisplayName           Location  AverageAnswersCount\n",
            "0      280.0            csmba  san francisco, ca                 11.0\n",
            "1    40811.0           vocaro       san jose, ca                 11.0\n",
            "2      204.0             josh          australia                 10.0\n",
            "3    44093.0    emma arbogast          salem, or                 10.0\n",
            "4    11758.0         rvarcher  oklahoma city, ok                  9.0\n",
            "5    19588.0       jd isaacks        atlanta, ga                  8.0\n",
            "6    20473.0      jeremy boyd        houston, tx                  8.0\n",
            "7    42364.0         petrogad               None                  8.0\n",
            "8    54571.0        christian               None                  8.0\n",
            "9    79346.0  thomas matthews         california                  8.0\n",
            "Results are consistent!\n"
          ]
        }
      ]
    }
  ],
  "metadata": {
    "colab": {
      "provenance": [],
      "include_colab_link": true
    },
    "language_info": {
      "name": "python"
    },
    "kernelspec": {
      "name": "python3",
      "display_name": "Python 3"
    }
  },
  "nbformat": 4,
  "nbformat_minor": 5
}